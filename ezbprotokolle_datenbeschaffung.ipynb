{
 "cells": [
  {
   "cell_type": "markdown",
   "metadata": {},
   "source": [
    "# 1. Liste mit URLs zu den PDF erstellen"
   ]
  },
  {
   "cell_type": "markdown",
   "metadata": {},
   "source": [
    "Die Buba hat die Protokolle auf Deutsch als PDF aufgeschaltet. Im ersten Schritt werden die urls zu den PDF für die 30 Protokolle gescrapt"
   ]
  },
  {
   "cell_type": "markdown",
   "metadata": {},
   "source": [
    "Die Seite ermöglicht es, bis zu 50 Dokumente anzeigen zu lassen. Diese Seite will ich scrapen:\n",
    "    https://www.bundesbank.de/action/de/737380/bbksearch?state=H4sIAAAAAAAAAG2QQWrDQAxFr1K0LF4421kGYiiE1pBcQB4r9lBlxtHICxNy92ggNi1kpy89fb50h9tMsoCDT6jAjxgj8VcPLs7MFfTJn5eJVjnhQN_zFVxdwQU9aQZ3f1gdWEleQtMwMDVlvF9-Jg0prvtj0NyStGYDblf_a5xUQhwsyK6G4ihZj6Rmuy4jTyN2pAaHiMX2ELFjsrAX5EzviFYoE5PXDVWZjexRqZF03e40fU5_1SmxNIF4e0VOopau635LVZCPnrKHxxMTzqlXQwEAAA&hitsPerPageString=50&sort=bbksortdate+desc"
   ]
  },
  {
   "cell_type": "code",
   "execution_count": 1,
   "metadata": {},
   "outputs": [],
   "source": [
    "#Import von Requests und BeautifulSoup\n",
    "import requests\n",
    "from bs4 import BeautifulSoup"
   ]
  },
  {
   "cell_type": "code",
   "execution_count": 2,
   "metadata": {},
   "outputs": [],
   "source": [
    "response = requests.get(\"https://www.bundesbank.de/action/de/737380/bbksearch?state=H4sIAAAAAAAAAG2QQWrDQAxFr1K0LF4421kGYiiE1pBcQB4r9lBlxtHICxNy92ggNi1kpy89fb50h9tMsoCDT6jAjxgj8VcPLs7MFfTJn5eJVjnhQN_zFVxdwQU9aQZ3f1gdWEleQtMwMDVlvF9-Jg0prvtj0NyStGYDblf_a5xUQhwsyK6G4ihZj6Rmuy4jTyN2pAaHiMX2ELFjsrAX5EzviFYoE5PXDVWZjexRqZF03e40fU5_1SmxNIF4e0VOopau635LVZCPnrKHxxMTzqlXQwEAAA&hitsPerPageString=50&sort=bbksortdate+desc\")\n",
    "soup = BeautifulSoup(response.text, 'lxml')"
   ]
  },
  {
   "cell_type": "code",
   "execution_count": 3,
   "metadata": {},
   "outputs": [],
   "source": [
    "# Webseit mit Developer-Tool inspizieren: Links sind unter dem Tag \"a\" als \"href\" bezeichnet.\n",
    "tags = soup.find_all('a')"
   ]
  },
  {
   "cell_type": "code",
   "execution_count": 4,
   "metadata": {},
   "outputs": [],
   "source": [
    "urlist = []\n",
    "for tag in tags:\n",
    "    url = tag.get('href')\n",
    "    urlist.append(url)"
   ]
  },
  {
   "cell_type": "code",
   "execution_count": 5,
   "metadata": {},
   "outputs": [
    {
     "data": {
      "text/plain": [
       "864"
      ]
     },
     "execution_count": 5,
     "metadata": {},
     "output_type": "execute_result"
    }
   ],
   "source": [
    "len(urlist)"
   ]
  },
  {
   "cell_type": "markdown",
   "metadata": {},
   "source": [
    "Da hat es viel dabei, das nicht als url zu gebrauchen ist. Ein Blick auf urlist zeigt, dass die gesuchten urls erst fast am Schluss kommen. Nur die Zeilen 823 bis 856 auswählen:"
   ]
  },
  {
   "cell_type": "code",
   "execution_count": 6,
   "metadata": {},
   "outputs": [
    {
     "data": {
      "text/plain": [
       "['/resource/blob/778892/e1efded3fabd4830f2bb83898c29a6b6/mL/2019-02-21-account-data.pdf',\n",
       " '/resource/blob/772624/f6c913936c82c1d6f56831c391e7c156/mL/2019-01-10-account-data.pdf',\n",
       " '/resource/blob/768096/2ba10bf0562a745cb902f09ebb5a28f9/mL/2018-11-22-account-data.pdf',\n",
       " '/resource/blob/763596/8fdae7aca6ad99835b90b26738ce556c/mL/2018-10-11-account-data.pdf',\n",
       " '/resource/blob/756300/5a0e167582fb1264d133b8d968532d64/mL/2018-08-23-account-data.pdf',\n",
       " '/resource/blob/749858/4ae7f4c6ed11b35f601f8daf1acd3ddb/mL/2018-07-12-account-data.pdf',\n",
       " '/resource/blob/738692/ebf1fed2b518455a391a37cb3e325e25/mL/2018-05-24-account-data.pdf',\n",
       " '/resource/blob/724052/ac6528714d8954458657c2195b20abac/mL/2018-04-12-account-data.pdf',\n",
       " '/resource/blob/689420/455195ee4b90cbd5e2a545dbdb848e7a/mL/2018-02-22-account-data.pdf',\n",
       " '/resource/blob/689418/556d9e594dd952a16bebf2ca302059e3/mL/2018-01-11-account-data.pdf',\n",
       " '/resource/blob/689416/1abfce4a6df2e45d5f3c9edf6ce1d53a/mL/2017-11-23-account-data.pdf',\n",
       " '/resource/blob/689408/d7465055692e06303aa8d00149d6a935/mL/2017-10-05-account-data.pdf',\n",
       " '/resource/blob/689406/6def5b12d59a140523b103f57fb43250/mL/2017-08-17-account-data.pdf',\n",
       " '/resource/blob/689396/d6c8ac872e79eb05eec638a9007f0f23/mL/2017-07-06-account-data.pdf',\n",
       " '/resource/blob/689402/c340717bfe5f8d7bc4e5fbcd4e26eef3/mL/2017-05-18-account-data.pdf',\n",
       " '/resource/blob/689404/0a6ac4d21615462012c8fbb036460926/mL/2017-04-06-account-data.pdf',\n",
       " '/resource/blob/689400/334433f5ed022f9a8175caad0eb20b8d/mL/2017-02-16-account-data.pdf',\n",
       " '/resource/blob/689394/13e345a787d6908f23a3f0f7f9a4d726/mL/2017-01-12-account-data.pdf',\n",
       " '/resource/blob/689392/7fe13d2e212d3fee74493e98cf5862ab/mL/2016-11-17-account-data.pdf',\n",
       " '/resource/blob/689390/d8654006f9be9243c65ee292f691b373/mL/2016-10-06-account-data.pdf',\n",
       " '/resource/blob/689398/171173ad6cb047e1a8d429e29065a243/mL/2016-08-18-account-data.pdf',\n",
       " '/resource/blob/689388/2f9bcb0aa014a29ce5b7c804c8f9c642/mL/2016-06-21-account-data.pdf',\n",
       " '/resource/blob/689386/53bce95af935e51fe38ea1d9a0f322fb/mL/2016-05-19-account-data.pdf',\n",
       " '/resource/blob/689384/fcd7d88b2251c77645a7313e1840da37/mL/2016-04-07-account-data.pdf',\n",
       " '/resource/blob/689380/23e7680112e64b8325af2cfafa0e0ca6/mL/2016-02-18-account-data.pdf',\n",
       " '/resource/blob/689382/78969ae79069a559a245d60eb2b87c0c/mL/2015-12-02-account-data.pdf',\n",
       " '/resource/blob/689378/56a9f36d5f0f829c3e0eb83c7fa7dab6/mL/2015-11-19-account-data.pdf',\n",
       " '/resource/blob/689374/6ebde1307e6247c22c874df52eebf6da/mL/2015-10-08-account-data.pdf',\n",
       " '/resource/blob/689372/7958eb83c41a0b2d31466c67d2cc81a2/mL/2015-08-13-account-data.pdf',\n",
       " '/resource/blob/689364/971594efe9b1e06b208e2aaa4e26de26/mL/2015-07-02-account-data.pdf',\n",
       " '/resource/blob/689368/ded6181c205d97c480e944741ac2100b/mL/2015-05-21-account-data.pdf',\n",
       " '/resource/blob/689370/f64584bd8e39dfbeaac7bd6b31969868/mL/2015-04-02-account-data.pdf',\n",
       " '/resource/blob/664344/89e76520a161b8709e54f78f1d4edb10/mL/2015-02-19-account-data.pdf']"
      ]
     },
     "execution_count": 6,
     "metadata": {},
     "output_type": "execute_result"
    }
   ],
   "source": [
    "urlist[823:856]"
   ]
  },
  {
   "cell_type": "code",
   "execution_count": 7,
   "metadata": {
    "scrolled": true
   },
   "outputs": [
    {
     "name": "stdout",
     "output_type": "stream",
     "text": [
      "['https://www.bundesbank.de/resource/blob/778892/e1efded3fabd4830f2bb83898c29a6b6/mL/2019-02-21-account-data.pdf', 'https://www.bundesbank.de/resource/blob/772624/f6c913936c82c1d6f56831c391e7c156/mL/2019-01-10-account-data.pdf', 'https://www.bundesbank.de/resource/blob/768096/2ba10bf0562a745cb902f09ebb5a28f9/mL/2018-11-22-account-data.pdf', 'https://www.bundesbank.de/resource/blob/763596/8fdae7aca6ad99835b90b26738ce556c/mL/2018-10-11-account-data.pdf', 'https://www.bundesbank.de/resource/blob/756300/5a0e167582fb1264d133b8d968532d64/mL/2018-08-23-account-data.pdf', 'https://www.bundesbank.de/resource/blob/749858/4ae7f4c6ed11b35f601f8daf1acd3ddb/mL/2018-07-12-account-data.pdf', 'https://www.bundesbank.de/resource/blob/738692/ebf1fed2b518455a391a37cb3e325e25/mL/2018-05-24-account-data.pdf', 'https://www.bundesbank.de/resource/blob/724052/ac6528714d8954458657c2195b20abac/mL/2018-04-12-account-data.pdf', 'https://www.bundesbank.de/resource/blob/689420/455195ee4b90cbd5e2a545dbdb848e7a/mL/2018-02-22-account-data.pdf', 'https://www.bundesbank.de/resource/blob/689418/556d9e594dd952a16bebf2ca302059e3/mL/2018-01-11-account-data.pdf', 'https://www.bundesbank.de/resource/blob/689416/1abfce4a6df2e45d5f3c9edf6ce1d53a/mL/2017-11-23-account-data.pdf', 'https://www.bundesbank.de/resource/blob/689408/d7465055692e06303aa8d00149d6a935/mL/2017-10-05-account-data.pdf', 'https://www.bundesbank.de/resource/blob/689406/6def5b12d59a140523b103f57fb43250/mL/2017-08-17-account-data.pdf', 'https://www.bundesbank.de/resource/blob/689396/d6c8ac872e79eb05eec638a9007f0f23/mL/2017-07-06-account-data.pdf', 'https://www.bundesbank.de/resource/blob/689402/c340717bfe5f8d7bc4e5fbcd4e26eef3/mL/2017-05-18-account-data.pdf', 'https://www.bundesbank.de/resource/blob/689404/0a6ac4d21615462012c8fbb036460926/mL/2017-04-06-account-data.pdf', 'https://www.bundesbank.de/resource/blob/689400/334433f5ed022f9a8175caad0eb20b8d/mL/2017-02-16-account-data.pdf', 'https://www.bundesbank.de/resource/blob/689394/13e345a787d6908f23a3f0f7f9a4d726/mL/2017-01-12-account-data.pdf', 'https://www.bundesbank.de/resource/blob/689392/7fe13d2e212d3fee74493e98cf5862ab/mL/2016-11-17-account-data.pdf', 'https://www.bundesbank.de/resource/blob/689390/d8654006f9be9243c65ee292f691b373/mL/2016-10-06-account-data.pdf', 'https://www.bundesbank.de/resource/blob/689398/171173ad6cb047e1a8d429e29065a243/mL/2016-08-18-account-data.pdf', 'https://www.bundesbank.de/resource/blob/689388/2f9bcb0aa014a29ce5b7c804c8f9c642/mL/2016-06-21-account-data.pdf', 'https://www.bundesbank.de/resource/blob/689386/53bce95af935e51fe38ea1d9a0f322fb/mL/2016-05-19-account-data.pdf', 'https://www.bundesbank.de/resource/blob/689384/fcd7d88b2251c77645a7313e1840da37/mL/2016-04-07-account-data.pdf', 'https://www.bundesbank.de/resource/blob/689380/23e7680112e64b8325af2cfafa0e0ca6/mL/2016-02-18-account-data.pdf', 'https://www.bundesbank.de/resource/blob/689382/78969ae79069a559a245d60eb2b87c0c/mL/2015-12-02-account-data.pdf', 'https://www.bundesbank.de/resource/blob/689378/56a9f36d5f0f829c3e0eb83c7fa7dab6/mL/2015-11-19-account-data.pdf', 'https://www.bundesbank.de/resource/blob/689374/6ebde1307e6247c22c874df52eebf6da/mL/2015-10-08-account-data.pdf', 'https://www.bundesbank.de/resource/blob/689372/7958eb83c41a0b2d31466c67d2cc81a2/mL/2015-08-13-account-data.pdf', 'https://www.bundesbank.de/resource/blob/689364/971594efe9b1e06b208e2aaa4e26de26/mL/2015-07-02-account-data.pdf', 'https://www.bundesbank.de/resource/blob/689368/ded6181c205d97c480e944741ac2100b/mL/2015-05-21-account-data.pdf', 'https://www.bundesbank.de/resource/blob/689370/f64584bd8e39dfbeaac7bd6b31969868/mL/2015-04-02-account-data.pdf', 'https://www.bundesbank.de/resource/blob/664344/89e76520a161b8709e54f78f1d4edb10/mL/2015-02-19-account-data.pdf']\n"
     ]
    }
   ],
   "source": [
    "#nun noch die Basisurl vorne dran hängen:\n",
    "basicurl = \"https://www.bundesbank.de\"\n",
    "ganzeurls = []\n",
    "for element in urlist[823:856]:\n",
    "    ganzeurl = basicurl + element\n",
    "    ganzeurls.append(ganzeurl)\n",
    "print(ganzeurls)"
   ]
  },
  {
   "cell_type": "markdown",
   "metadata": {},
   "source": [
    "das ist nun die Liste mit den URLS zu den PDF. "
   ]
  },
  {
   "cell_type": "markdown",
   "metadata": {},
   "source": [
    "# 2. PDF anhand URL-Liste herunterladen"
   ]
  },
  {
   "cell_type": "markdown",
   "metadata": {},
   "source": [
    "und nun für die ganze Liste: Dazu braucht es noch eine Liste mit den Namen, dieser steht am Ende der URL: URL splitten, ergibt eine Liste mit zwei Elementen. Der PDF name ist das zweite Element [0]"
   ]
  },
  {
   "cell_type": "code",
   "execution_count": 8,
   "metadata": {},
   "outputs": [],
   "source": [
    "pdfnamelist = []\n",
    "for element in ganzeurls:\n",
    "    pdfname = element.split(\"mL/\")[1]\n",
    "    pdfnamelist.append(pdfname)"
   ]
  },
  {
   "cell_type": "code",
   "execution_count": 9,
   "metadata": {},
   "outputs": [
    {
     "data": {
      "text/plain": [
       "['2019-02-21-account-data.pdf',\n",
       " '2019-01-10-account-data.pdf',\n",
       " '2018-11-22-account-data.pdf',\n",
       " '2018-10-11-account-data.pdf',\n",
       " '2018-08-23-account-data.pdf',\n",
       " '2018-07-12-account-data.pdf',\n",
       " '2018-05-24-account-data.pdf',\n",
       " '2018-04-12-account-data.pdf',\n",
       " '2018-02-22-account-data.pdf',\n",
       " '2018-01-11-account-data.pdf',\n",
       " '2017-11-23-account-data.pdf',\n",
       " '2017-10-05-account-data.pdf',\n",
       " '2017-08-17-account-data.pdf',\n",
       " '2017-07-06-account-data.pdf',\n",
       " '2017-05-18-account-data.pdf',\n",
       " '2017-04-06-account-data.pdf',\n",
       " '2017-02-16-account-data.pdf',\n",
       " '2017-01-12-account-data.pdf',\n",
       " '2016-11-17-account-data.pdf',\n",
       " '2016-10-06-account-data.pdf',\n",
       " '2016-08-18-account-data.pdf',\n",
       " '2016-06-21-account-data.pdf',\n",
       " '2016-05-19-account-data.pdf',\n",
       " '2016-04-07-account-data.pdf',\n",
       " '2016-02-18-account-data.pdf',\n",
       " '2015-12-02-account-data.pdf',\n",
       " '2015-11-19-account-data.pdf',\n",
       " '2015-10-08-account-data.pdf',\n",
       " '2015-08-13-account-data.pdf',\n",
       " '2015-07-02-account-data.pdf',\n",
       " '2015-05-21-account-data.pdf',\n",
       " '2015-04-02-account-data.pdf',\n",
       " '2015-02-19-account-data.pdf']"
      ]
     },
     "execution_count": 9,
     "metadata": {},
     "output_type": "execute_result"
    }
   ],
   "source": [
    "pdfnamelist"
   ]
  },
  {
   "cell_type": "markdown",
   "metadata": {},
   "source": [
    "iterieren über die beiden Listen ganzeurls und pdfnamelist: Mit dem Elementen aus ganzeurls die pdf ziehen und mit dem Elementen der pdfnameliste speichern"
   ]
  },
  {
   "cell_type": "code",
   "execution_count": 10,
   "metadata": {},
   "outputs": [],
   "source": [
    "for ganzeurl, pdfname in zip(ganzeurls, pdfnamelist):\n",
    "    r = requests.get(ganzeurl)\n",
    "    open(pdfname, 'wb').write(r.content)"
   ]
  },
  {
   "cell_type": "markdown",
   "metadata": {},
   "source": [
    "Jetzt kann die Textanalyse beginnnen:"
   ]
  }
 ],
 "metadata": {
  "kernelspec": {
   "display_name": "Python 3",
   "language": "python",
   "name": "python3"
  },
  "language_info": {
   "codemirror_mode": {
    "name": "ipython",
    "version": 3
   },
   "file_extension": ".py",
   "mimetype": "text/x-python",
   "name": "python",
   "nbconvert_exporter": "python",
   "pygments_lexer": "ipython3",
   "version": "3.7.0"
  }
 },
 "nbformat": 4,
 "nbformat_minor": 2
}
